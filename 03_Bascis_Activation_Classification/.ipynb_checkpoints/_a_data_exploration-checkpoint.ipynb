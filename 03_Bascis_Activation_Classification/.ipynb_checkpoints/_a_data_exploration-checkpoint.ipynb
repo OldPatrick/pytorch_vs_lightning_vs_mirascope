{
 "cells": [
  {
   "cell_type": "code",
   "execution_count": 46,
   "id": "03986407-5005-426d-b6f7-85aca741693d",
   "metadata": {},
   "outputs": [],
   "source": [
    "import polars as pl\n",
    "import pandas as pd"
   ]
  },
  {
   "cell_type": "code",
   "execution_count": 47,
   "id": "647151a6-1bc9-47cf-bd78-4dac3ac6b8ea",
   "metadata": {},
   "outputs": [],
   "source": [
    "df = pd.read_csv(\"./data/SMSSpamCollection\", sep=\"\\t\", names=[\"type\", \"message\"])"
   ]
  },
  {
   "cell_type": "code",
   "execution_count": 48,
   "id": "d03ad083-e586-40e2-bed8-e6ccf92a4121",
   "metadata": {},
   "outputs": [],
   "source": [
    "df = pl.DataFrame(df)"
   ]
  },
  {
   "cell_type": "code",
   "execution_count": 49,
   "id": "b8c353be-19ed-4f77-8749-c0ed4927844f",
   "metadata": {},
   "outputs": [],
   "source": [
    "df = (\n",
    "    df\n",
    "    .with_columns(\n",
    "        spam=pl.when(pl.col(\"type\").eq(\"spam\")).then(pl.lit(1)).otherwise(0)\n",
    "    )\n",
    "    .select(\"message\", \"spam\")\n",
    "    .with_row_index(\"index\")\n",
    ")"
   ]
  },
  {
   "cell_type": "code",
   "execution_count": 50,
   "id": "ff5b53c4-1f91-4b10-b811-71d9fad13972",
   "metadata": {},
   "outputs": [
    {
     "data": {
      "text/plain": [
       "(747, 4825)"
      ]
     },
     "execution_count": 50,
     "metadata": {},
     "output_type": "execute_result"
    }
   ],
   "source": [
    "len(df.filter(pl.col(\"spam\").eq(1))), len(df.filter(pl.col(\"spam\").eq(0)))"
   ]
  },
  {
   "cell_type": "code",
   "execution_count": 51,
   "id": "36ce2812-9dd7-449d-96ee-d3a40caf89bd",
   "metadata": {},
   "outputs": [
    {
     "data": {
      "text/plain": [
       "[<Expr ['col(\"index\")'] at 0x7F2C4D188A10>]"
      ]
     },
     "execution_count": 51,
     "metadata": {},
     "output_type": "execute_result"
    }
   ],
   "source": [
    "[pl.col(\"index\")]"
   ]
  },
  {
   "cell_type": "code",
   "execution_count": 60,
   "id": "2345ebca-548d-46fd-8438-9a5e7a1d887a",
   "metadata": {},
   "outputs": [],
   "source": [
    "df_train = df.sample(fraction=0.8, seed=0)"
   ]
  },
  {
   "cell_type": "code",
   "execution_count": 61,
   "id": "51f79257-2cf3-4af5-83c9-f92486205cc0",
   "metadata": {},
   "outputs": [],
   "source": [
    "indezes = list(df_train[\"index\"])"
   ]
  },
  {
   "cell_type": "code",
   "execution_count": 58,
   "id": "5380db09-7ad2-420c-adbe-05b201f206d0",
   "metadata": {},
   "outputs": [
    {
     "data": {
      "text/html": [
       "<div><style>\n",
       ".dataframe > thead > tr,\n",
       ".dataframe > tbody > tr {\n",
       "  text-align: right;\n",
       "  white-space: pre-wrap;\n",
       "}\n",
       "</style>\n",
       "<small>shape: (0, 3)</small><table border=\"1\" class=\"dataframe\"><thead><tr><th>index</th><th>message</th><th>spam</th></tr><tr><td>u32</td><td>str</td><td>i32</td></tr></thead><tbody></tbody></table></div>"
      ],
      "text/plain": [
       "shape: (0, 3)\n",
       "┌───────┬─────────┬──────┐\n",
       "│ index ┆ message ┆ spam │\n",
       "│ ---   ┆ ---     ┆ ---  │\n",
       "│ u32   ┆ str     ┆ i32  │\n",
       "╞═══════╪═════════╪══════╡\n",
       "└───────┴─────────┴──────┘"
      ]
     },
     "execution_count": 58,
     "metadata": {},
     "output_type": "execute_result"
    }
   ],
   "source": [
    "df.filter(~pl.col(\"index\").is_in(indezes))"
   ]
  },
  {
   "cell_type": "code",
   "execution_count": 38,
   "id": "0b809593-4e97-4d43-af7f-03f8f0f9f0f5",
   "metadata": {},
   "outputs": [
    {
     "data": {
      "text/html": [
       "<div><style>\n",
       ".dataframe > thead > tr,\n",
       ".dataframe > tbody > tr {\n",
       "  text-align: right;\n",
       "  white-space: pre-wrap;\n",
       "}\n",
       "</style>\n",
       "<small>shape: (5_572, 2)</small><table border=\"1\" class=\"dataframe\"><thead><tr><th>message</th><th>spam</th></tr><tr><td>str</td><td>i32</td></tr></thead><tbody><tr><td>&quot;Go until jurong point, crazy..…</td><td>0</td></tr><tr><td>&quot;Ok lar... Joking wif u oni...&quot;</td><td>0</td></tr><tr><td>&quot;Free entry in 2 a wkly comp to…</td><td>1</td></tr><tr><td>&quot;U dun say so early hor... U c …</td><td>0</td></tr><tr><td>&quot;Nah I don&#x27;t think he goes to u…</td><td>0</td></tr><tr><td>&hellip;</td><td>&hellip;</td></tr><tr><td>&quot;This is the 2nd time we have t…</td><td>1</td></tr><tr><td>&quot;Will ü b going to esplanade fr…</td><td>0</td></tr><tr><td>&quot;Pity, * was in mood for that. …</td><td>0</td></tr><tr><td>&quot;The guy did some bitching but …</td><td>0</td></tr><tr><td>&quot;Rofl. Its true to its name&quot;</td><td>0</td></tr></tbody></table></div>"
      ],
      "text/plain": [
       "shape: (5_572, 2)\n",
       "┌─────────────────────────────────┬──────┐\n",
       "│ message                         ┆ spam │\n",
       "│ ---                             ┆ ---  │\n",
       "│ str                             ┆ i32  │\n",
       "╞═════════════════════════════════╪══════╡\n",
       "│ Go until jurong point, crazy..… ┆ 0    │\n",
       "│ Ok lar... Joking wif u oni...   ┆ 0    │\n",
       "│ Free entry in 2 a wkly comp to… ┆ 1    │\n",
       "│ U dun say so early hor... U c … ┆ 0    │\n",
       "│ Nah I don't think he goes to u… ┆ 0    │\n",
       "│ …                               ┆ …    │\n",
       "│ This is the 2nd time we have t… ┆ 1    │\n",
       "│ Will ü b going to esplanade fr… ┆ 0    │\n",
       "│ Pity, * was in mood for that. … ┆ 0    │\n",
       "│ The guy did some bitching but … ┆ 0    │\n",
       "│ Rofl. Its true to its name      ┆ 0    │\n",
       "└─────────────────────────────────┴──────┘"
      ]
     },
     "execution_count": 38,
     "metadata": {},
     "output_type": "execute_result"
    }
   ],
   "source": [
    "df"
   ]
  }
 ],
 "metadata": {
  "environment": {
   "kernel": "my-uv-kernel",
   "name": "workbench-notebooks.m131",
   "type": "gcloud",
   "uri": "us-docker.pkg.dev/deeplearning-platform-release/gcr.io/workbench-notebooks:m131"
  },
  "kernelspec": {
   "display_name": "PLM",
   "language": "python",
   "name": "my-uv-kernel"
  },
  "language_info": {
   "codemirror_mode": {
    "name": "ipython",
    "version": 3
   },
   "file_extension": ".py",
   "mimetype": "text/x-python",
   "name": "python",
   "nbconvert_exporter": "python",
   "pygments_lexer": "ipython3",
   "version": "3.12.8"
  }
 },
 "nbformat": 4,
 "nbformat_minor": 5
}
