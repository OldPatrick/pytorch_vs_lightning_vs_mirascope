{
 "cells": [
  {
   "cell_type": "code",
   "execution_count": 22,
   "id": "03986407-5005-426d-b6f7-85aca741693d",
   "metadata": {},
   "outputs": [],
   "source": [
    "import polars as pl\n",
    "import pandas as pd"
   ]
  },
  {
   "cell_type": "code",
   "execution_count": 24,
   "id": "647151a6-1bc9-47cf-bd78-4dac3ac6b8ea",
   "metadata": {},
   "outputs": [],
   "source": [
    "df = pd.read_csv(\"./data/SMSSpamCollection\", sep=\"\\t\", names=[\"type\", \"message\"])"
   ]
  },
  {
   "cell_type": "code",
   "execution_count": 25,
   "id": "d03ad083-e586-40e2-bed8-e6ccf92a4121",
   "metadata": {},
   "outputs": [],
   "source": [
    "df = pl.DataFrame(df)"
   ]
  },
  {
   "cell_type": "code",
   "execution_count": 33,
   "id": "b8c353be-19ed-4f77-8749-c0ed4927844f",
   "metadata": {},
   "outputs": [],
   "source": [
    "df = (\n",
    "    df\n",
    "    .with_columns(\n",
    "        spam=pl.when(pl.col(\"type\").eq(\"spam\")).then(pl.lit(1)).otherwise(0)\n",
    "    )\n",
    "    .select(\"message\", \"spam\")\n",
    ")"
   ]
  },
  {
   "cell_type": "code",
   "execution_count": 36,
   "id": "ff5b53c4-1f91-4b10-b811-71d9fad13972",
   "metadata": {},
   "outputs": [
    {
     "data": {
      "text/plain": [
       "(747, 4825)"
      ]
     },
     "execution_count": 36,
     "metadata": {},
     "output_type": "execute_result"
    }
   ],
   "source": [
    "len(df.filter(pl.col(\"spam\").eq(1))), len(df.filter(pl.col(\"spam\").eq(0)))"
   ]
  }
 ],
 "metadata": {
  "environment": {
   "kernel": "my-uv-kernel",
   "name": "workbench-notebooks.m131",
   "type": "gcloud",
   "uri": "us-docker.pkg.dev/deeplearning-platform-release/gcr.io/workbench-notebooks:m131"
  },
  "kernelspec": {
   "display_name": "PLM",
   "language": "python",
   "name": "my-uv-kernel"
  },
  "language_info": {
   "codemirror_mode": {
    "name": "ipython",
    "version": 3
   },
   "file_extension": ".py",
   "mimetype": "text/x-python",
   "name": "python",
   "nbconvert_exporter": "python",
   "pygments_lexer": "ipython3",
   "version": "3.12.8"
  }
 },
 "nbformat": 4,
 "nbformat_minor": 5
}
