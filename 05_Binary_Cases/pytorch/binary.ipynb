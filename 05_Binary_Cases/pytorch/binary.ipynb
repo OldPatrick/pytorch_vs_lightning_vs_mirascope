{
 "cells": [
  {
   "cell_type": "code",
   "execution_count": null,
   "id": "ff90d2f6",
   "metadata": {},
   "outputs": [],
   "source": [
    "import polars as pl\n",
    "from polars import selectors as cs\n",
    "from sklearn.model_selection import train_test_split, StratifiedShuffleSplit\n",
    "import torch\n",
    "from torch import nn"
   ]
  },
  {
   "cell_type": "code",
   "execution_count": null,
   "id": "bab689a7",
   "metadata": {},
   "outputs": [],
   "source": [
    "#Functions\n",
    "def model_training(X: torch.Tensor, y: torch.Tensor) -> None:\n",
    "    X_train, X_val, y_train, y_val = train_test_split(X_train, y_train, random_state=0, test_size=0.2)\n",
    "    for iter in range(0, 20000):\n",
    "        loss_sum=0\n",
    "        for st"
   ]
  },
  {
   "cell_type": "code",
   "execution_count": 5,
   "id": "a392d845",
   "metadata": {},
   "outputs": [],
   "source": [
    "df = pl.read_csv(\"loan_data.csv\", separator=\",\")"
   ]
  },
  {
   "cell_type": "code",
   "execution_count": 12,
   "id": "946d81ae",
   "metadata": {},
   "outputs": [],
   "source": [
    "df_dummied = df.to_dummies(columns=[\"person_gender\", \"person_education\", \"person_home_ownership\", \"loan_intent\", \"previous_loan_defaults_on_file\"])"
   ]
  },
  {
   "cell_type": "code",
   "execution_count": 22,
   "id": "852aa662",
   "metadata": {},
   "outputs": [],
   "source": [
    "X = df_dummied.drop(\"loan_status\").clone()\n",
    "y = df_dummied[\"loan_status\"]"
   ]
  },
  {
   "cell_type": "code",
   "execution_count": 26,
   "id": "5963162e",
   "metadata": {},
   "outputs": [],
   "source": [
    "X_train, X_test, y_train, y_test = train_test_split(X, y, random_state=0, stratify=y)"
   ]
  },
  {
   "cell_type": "code",
   "execution_count": 41,
   "id": "09f0d6d0",
   "metadata": {},
   "outputs": [
    {
     "data": {
      "text/plain": [
       "(shape: (2, 2)\n",
       " ┌─────────────┬───────┐\n",
       " │ loan_status ┆ count │\n",
       " │ ---         ┆ ---   │\n",
       " │ i64         ┆ u32   │\n",
       " ╞═════════════╪═══════╡\n",
       " │ 0           ┆ 26250 │\n",
       " │ 1           ┆ 7500  │\n",
       " └─────────────┴───────┘,\n",
       " shape: (2, 2)\n",
       " ┌─────────────┬──────────┐\n",
       " │ loan_status ┆ count    │\n",
       " │ ---         ┆ ---      │\n",
       " │ f64         ┆ f64      │\n",
       " ╞═════════════╪══════════╡\n",
       " │ 0.0         ┆ 0.777778 │\n",
       " │ 0.00003     ┆ 0.222222 │\n",
       " └─────────────┴──────────┘,\n",
       " shape: (2, 2)\n",
       " ┌─────────────┬───────┐\n",
       " │ loan_status ┆ count │\n",
       " │ ---         ┆ ---   │\n",
       " │ i64         ┆ u32   │\n",
       " ╞═════════════╪═══════╡\n",
       " │ 0           ┆ 8750  │\n",
       " │ 1           ┆ 2500  │\n",
       " └─────────────┴───────┘,\n",
       " shape: (2, 2)\n",
       " ┌─────────────┬──────────┐\n",
       " │ loan_status ┆ count    │\n",
       " │ ---         ┆ ---      │\n",
       " │ f64         ┆ f64      │\n",
       " ╞═════════════╪══════════╡\n",
       " │ 0.0         ┆ 0.777778 │\n",
       " │ 0.000089    ┆ 0.222222 │\n",
       " └─────────────┴──────────┘)"
      ]
     },
     "execution_count": 41,
     "metadata": {},
     "output_type": "execute_result"
    }
   ],
   "source": [
    "y_train.value_counts(), y_train.value_counts()/len(y_train), y_test.value_counts(), y_test.value_counts()/len(y_test)"
   ]
  },
  {
   "cell_type": "code",
   "execution_count": 45,
   "id": "a9033d32",
   "metadata": {},
   "outputs": [],
   "source": [
    "X_train = torch.tensor(X_train.rows(), dtype=torch.float32)\n",
    "y_train = torch.tensor(y_train, dtype=torch.float32)\n",
    "\n",
    "X_test = torch.tensor(X_test.rows(), dtype=torch.float32)\n",
    "y_test = torch.tensor(y_test, dtype=torch.float32)"
   ]
  },
  {
   "cell_type": "code",
   "execution_count": 48,
   "id": "89be30cc",
   "metadata": {},
   "outputs": [
    {
     "data": {
      "text/plain": [
       "27"
      ]
     },
     "execution_count": 48,
     "metadata": {},
     "output_type": "execute_result"
    }
   ],
   "source": [
    "len(X_train[0])"
   ]
  },
  {
   "cell_type": "code",
   "execution_count": null,
   "id": "aef58bd4",
   "metadata": {},
   "outputs": [],
   "source": [
    "model_nn = nn.Sequential(\n",
    "    nn.Linear(27, 48),\n",
    "    nn.ReLU(),\n",
    "    nn.Linear(48, 16),\n",
    "    nn.ReLU(),\n",
    "    nn.Linear(16, 1)\n",
    ")\n",
    "\n",
    "loss_fn = nn.BCEWithLogitsLoss() #integrtaes internally a sigmoid before the BCELoss and is said to be numerical more stable\n",
    "optimizer = torch.optim.Adam(model_nn.parameters(), lr=0.001)\n",
    "model_training(X_train, y_train)"
   ]
  },
  {
   "cell_type": "code",
   "execution_count": null,
   "id": "80525caa",
   "metadata": {},
   "outputs": [],
   "source": [
    "model_nn.eval()"
   ]
  }
 ],
 "metadata": {
  "kernelspec": {
   "display_name": "plm",
   "language": "python",
   "name": "python3"
  },
  "language_info": {
   "codemirror_mode": {
    "name": "ipython",
    "version": 3
   },
   "file_extension": ".py",
   "mimetype": "text/x-python",
   "name": "python",
   "nbconvert_exporter": "python",
   "pygments_lexer": "ipython3",
   "version": "3.12.8"
  }
 },
 "nbformat": 4,
 "nbformat_minor": 5
}
